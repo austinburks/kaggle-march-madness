{
 "cells": [
  {
   "cell_type": "code",
   "execution_count": 1,
   "metadata": {
    "collapsed": true
   },
   "outputs": [],
   "source": [
    "import pandas as pd\n",
    "import re\n",
    "import os"
   ]
  },
  {
   "cell_type": "code",
   "execution_count": 2,
   "metadata": {
    "collapsed": true
   },
   "outputs": [],
   "source": [
    "df_seeds = pd.read_csv('../data/TourneySeeds.csv')"
   ]
  },
  {
   "cell_type": "markdown",
   "metadata": {},
   "source": [
    "Defining all the shared columns (split by winners and losers)"
   ]
  },
  {
   "cell_type": "code",
   "execution_count": 3,
   "metadata": {
    "collapsed": true
   },
   "outputs": [],
   "source": [
    "winning_columns = ['Wteam', 'Wscore', 'Lscore', 'Wloc', 'Lteam',\n",
    "                   'Numot', 'Wfgm', 'Wfga',\n",
    "                   'Wfgm3', 'Wfga3', 'Wftm',\n",
    "                   'Wfta', 'Wor', 'Wdr', 'Wast',\n",
    "                   'Wto', 'Wstl', 'Wblk', 'Wpf',\n",
    "                   'Season', 'Daynum']\n",
    "\n",
    "losing_columns = ['Lteam', 'Lscore', 'Wscore', 'Wloc', 'Wteam',\n",
    "                  'Numot', 'Lfgm', 'Lfga',\n",
    "                  'Lfgm3', 'Lfga3', 'Lftm',\n",
    "                  'Lfta', 'Lor', 'Ldr', 'Last',\n",
    "                  'Lto', 'Lstl', 'Lblk', 'Lpf',\n",
    "                  'Season', 'Daynum']"
   ]
  },
  {
   "cell_type": "markdown",
   "metadata": {},
   "source": [
    "Defining the conversion from the winner/loser specific to a general name"
   ]
  },
  {
   "cell_type": "code",
   "execution_count": 4,
   "metadata": {
    "collapsed": false
   },
   "outputs": [],
   "source": [
    "winning_col_convert = {'Wteam': 'team', 'Wscore': 'score', 'Wloc': 'loc', 'Lteam': 'oppteam',\n",
    "                       'Numot': 'Numot', 'Wfgm': 'fgm', 'Wfga': 'fga', 'Lscore': 'oppscore',\n",
    "                       'Wfgm3': 'fgm3', 'Wfga3': 'fga3', 'Wftm': 'ftm',\n",
    "                       'Wfta': 'fta', 'Wor': 'or', 'Wdr': 'dr', 'Wast': 'ast',\n",
    "                       'Wto': 'to', 'Wstl': 'stl', 'Wblk': 'blk', 'Wpf': 'pf'}\n",
    "\n",
    "losing_col_convert =  {'Lteam': 'team', 'Lscore': 'score', 'Wloc': 'loc', 'Wteam': 'oppteam',\n",
    "                       'Numot': 'Numot', 'Lfgm': 'fgm', 'Lfga': 'fga', 'Wscore': 'oppscore',\n",
    "                       'Lfgm3': 'fgm3', 'Lfga3': 'fga3', 'Lftm': 'ftm',\n",
    "                       'Lfta': 'fta', 'Lor': 'or', 'Ldr': 'dr', 'Last': 'ast',\n",
    "                       'Lto': 'to', 'Lstl': 'stl', 'Lblk': 'blk', 'Lpf': 'pf'}"
   ]
  },
  {
   "cell_type": "markdown",
   "metadata": {},
   "source": [
    "### Read in season data"
   ]
  },
  {
   "cell_type": "code",
   "execution_count": 5,
   "metadata": {
    "collapsed": false
   },
   "outputs": [],
   "source": [
    "df_season = pd.read_csv('../data/RegularSeasonDetailedResults.csv')\n",
    "\n",
    "df_season_winners = df_season[winning_columns].copy()\n",
    "df_season_winners['game_won'] = 1\n",
    "df_season_winners = df_season_winners.rename(columns=winning_col_convert)\n",
    "\n",
    "df_season_losers = df_season[losing_columns].copy()\n",
    "df_season_losers['game_won'] = 0\n",
    "df_season_losers = df_season_losers.rename(columns=losing_col_convert)"
   ]
  },
  {
   "cell_type": "markdown",
   "metadata": {},
   "source": [
    "Location is winner specific, so need to swap \"home\" and \"away\""
   ]
  },
  {
   "cell_type": "code",
   "execution_count": 6,
   "metadata": {
    "collapsed": false
   },
   "outputs": [],
   "source": [
    "loser_away_games, loser_home_games = df_season_losers['loc'] == 'H', df_season_losers['loc'] == 'A'\n",
    "df_season_losers.loc[loser_away_games, 'loc'] = 'A'\n",
    "df_season_losers.loc[loser_home_games, 'loc'] = 'H'"
   ]
  },
  {
   "cell_type": "markdown",
   "metadata": {},
   "source": [
    "Combine the winners and loser data, and define the season data variable"
   ]
  },
  {
   "cell_type": "code",
   "execution_count": 7,
   "metadata": {
    "collapsed": false
   },
   "outputs": [],
   "source": [
    "df_season_comb = df_season_winners.append(df_season_losers)\n",
    "df_season_comb['season_data'] = 1"
   ]
  },
  {
   "cell_type": "markdown",
   "metadata": {},
   "source": [
    "### Read in tournament data"
   ]
  },
  {
   "cell_type": "code",
   "execution_count": 8,
   "metadata": {
    "collapsed": true
   },
   "outputs": [],
   "source": [
    "df_tourney = pd.read_csv('../data/TourneyDetailedResults.csv')\n",
    "\n",
    "df_tourney_winners = df_tourney[winning_columns].copy()\n",
    "df_tourney_winners['game_won'] = 1\n",
    "df_tourney_winners = df_tourney_winners.rename(columns=winning_col_convert)\n",
    "\n",
    "df_tourney_losers = df_tourney[losing_columns].copy()\n",
    "df_tourney_losers['game_won'] = 0\n",
    "df_tourney_losers = df_tourney_losers.rename(columns=losing_col_convert)"
   ]
  },
  {
   "cell_type": "code",
   "execution_count": 9,
   "metadata": {
    "collapsed": false
   },
   "outputs": [],
   "source": [
    "df_tourney_comb = df_tourney_winners.append(df_tourney_losers)\n",
    "df_tourney_comb['season_data'] = 0"
   ]
  },
  {
   "cell_type": "markdown",
   "metadata": {},
   "source": [
    "### Comining tournament and season data"
   ]
  },
  {
   "cell_type": "code",
   "execution_count": 10,
   "metadata": {
    "collapsed": false
   },
   "outputs": [],
   "source": [
    "df_comb = df_season_comb.append(df_tourney_comb)\n",
    "df_comb = df_comb.set_index('team', drop=True)\n",
    "df_comb = df_comb.set_index('Season', drop=True, append=True)"
   ]
  },
  {
   "cell_type": "code",
   "execution_count": 11,
   "metadata": {
    "collapsed": false
   },
   "outputs": [],
   "source": [
    "df_comb.to_csv('../data/combined_dataset.csv')"
   ]
  }
 ],
 "metadata": {
  "anaconda-cloud": {},
  "kernelspec": {
   "display_name": "Python [default]",
   "language": "python",
   "name": "python3"
  },
  "language_info": {
   "codemirror_mode": {
    "name": "ipython",
    "version": 3
   },
   "file_extension": ".py",
   "mimetype": "text/x-python",
   "name": "python",
   "nbconvert_exporter": "python",
   "pygments_lexer": "ipython3",
   "version": "3.5.1"
  }
 },
 "nbformat": 4,
 "nbformat_minor": 1
}

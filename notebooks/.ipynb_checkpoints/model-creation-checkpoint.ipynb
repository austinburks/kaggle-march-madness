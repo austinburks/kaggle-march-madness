{
 "cells": [
  {
   "cell_type": "code",
   "execution_count": 145,
   "metadata": {
    "collapsed": true
   },
   "outputs": [],
   "source": [
    "import pandas as pd\n",
    "import os\n",
    "from sklearn.linear_model import LogisticRegressionCV\n",
    "from sklearn.feature_selection import f_classif\n",
    "from sklearn.preprocessing import OneHotEncoder\n",
    "from sklearn.preprocessing import LabelEncoder\n",
    "import pickle\n",
    "import numpy as np"
   ]
  },
  {
   "cell_type": "code",
   "execution_count": 97,
   "metadata": {
    "collapsed": false
   },
   "outputs": [],
   "source": [
    "df = pd.read_csv('../data/combined_dataset.csv')"
   ]
  },
  {
   "cell_type": "markdown",
   "metadata": {},
   "source": [
    "Encoding team names"
   ]
  },
  {
   "cell_type": "code",
   "execution_count": 98,
   "metadata": {
    "collapsed": false
   },
   "outputs": [],
   "source": [
    "team_encoded = pd.get_dummies(df['team'], prefix='team')\n",
    "team_decoded = pd.get_dummies(team_encoded).idxmax(1)"
   ]
  },
  {
   "cell_type": "code",
   "execution_count": 99,
   "metadata": {
    "collapsed": true
   },
   "outputs": [],
   "source": [
    "opp_team_encoded = pd.get_dummies(df['oppteam'], prefix='oppteam')\n",
    "opp_team_decoded = pd.get_dummies(opp_team_encoded).idxmax(1)"
   ]
  },
  {
   "cell_type": "markdown",
   "metadata": {},
   "source": [
    "Encoding Location"
   ]
  },
  {
   "cell_type": "code",
   "execution_count": 100,
   "metadata": {
    "collapsed": true
   },
   "outputs": [],
   "source": [
    "loc_encoded = pd.get_dummies(df['loc'], prefix='loc')\n",
    "loc_decoded = pd.get_dummies(loc_encoded).idxmax(1)"
   ]
  },
  {
   "cell_type": "code",
   "execution_count": 101,
   "metadata": {
    "collapsed": true
   },
   "outputs": [],
   "source": [
    "df_encoded = pd.concat([df.drop(['team', 'loc', 'oppteam'], axis=1), team_encoded, loc_encoded, opp_team_encoded], axis=1)"
   ]
  },
  {
   "cell_type": "code",
   "execution_count": 127,
   "metadata": {
    "collapsed": false,
    "scrolled": true
   },
   "outputs": [],
   "source": [
    "df_most_recent = df_encoded.loc[df_encoded['Season'] > 2011].reset_index(drop=True)\n",
    "df_most_recent = df_most_recent.dropna(axis=1, how='all')\n",
    "df_most_recent = df_most_recent.drop(['score', 'oppscore'], axis=1)"
   ]
  },
  {
   "cell_type": "markdown",
   "metadata": {},
   "source": [
    "Partition dataset into train and test"
   ]
  },
  {
   "cell_type": "code",
   "execution_count": 128,
   "metadata": {
    "collapsed": false
   },
   "outputs": [],
   "source": [
    "bool_2016 = df_most_recent['Season'] == 2016\n",
    "x_train, y_train, x_test, y_test = (df_most_recent.loc[~bool_2016].drop(['Season', 'game_won'], axis=1),\n",
    "                                    df_most_recent.loc[~bool_2016, 'game_won'],\n",
    "                                    df_most_recent.loc[bool_2016].drop(['Season', 'game_won'], axis=1),\n",
    "                                    df_most_recent.loc[bool_2016, 'game_won'])"
   ]
  },
  {
   "cell_type": "code",
   "execution_count": 129,
   "metadata": {
    "collapsed": false,
    "scrolled": false
   },
   "outputs": [
    {
     "name": "stderr",
     "output_type": "stream",
     "text": [
      "C:\\Users\\burksa\\AppData\\Local\\Continuum\\Anaconda3\\lib\\site-packages\\sklearn\\feature_selection\\univariate_selection.py:113: UserWarning: Features [ 40  58 199 352 398 416 557 710] are constant.\n",
      "  UserWarning)\n"
     ]
    }
   ],
   "source": [
    "train_univariate = f_classif(x_train, y_train)"
   ]
  },
  {
   "cell_type": "code",
   "execution_count": 130,
   "metadata": {
    "collapsed": false,
    "scrolled": true
   },
   "outputs": [
    {
     "data": {
      "text/html": [
       "<div>\n",
       "<table border=\"1\" class=\"dataframe\">\n",
       "  <thead>\n",
       "    <tr style=\"text-align: right;\">\n",
       "      <th></th>\n",
       "      <th>Columns</th>\n",
       "      <th>pval</th>\n",
       "    </tr>\n",
       "  </thead>\n",
       "  <tbody>\n",
       "    <tr>\n",
       "      <th>371</th>\n",
       "      <td>loc_A</td>\n",
       "      <td>0.000000e+00</td>\n",
       "    </tr>\n",
       "    <tr>\n",
       "      <th>1</th>\n",
       "      <td>fgm</td>\n",
       "      <td>0.000000e+00</td>\n",
       "    </tr>\n",
       "    <tr>\n",
       "      <th>5</th>\n",
       "      <td>ftm</td>\n",
       "      <td>0.000000e+00</td>\n",
       "    </tr>\n",
       "    <tr>\n",
       "      <th>6</th>\n",
       "      <td>fta</td>\n",
       "      <td>0.000000e+00</td>\n",
       "    </tr>\n",
       "    <tr>\n",
       "      <th>372</th>\n",
       "      <td>loc_H</td>\n",
       "      <td>0.000000e+00</td>\n",
       "    </tr>\n",
       "    <tr>\n",
       "      <th>8</th>\n",
       "      <td>dr</td>\n",
       "      <td>0.000000e+00</td>\n",
       "    </tr>\n",
       "    <tr>\n",
       "      <th>9</th>\n",
       "      <td>ast</td>\n",
       "      <td>0.000000e+00</td>\n",
       "    </tr>\n",
       "    <tr>\n",
       "      <th>12</th>\n",
       "      <td>blk</td>\n",
       "      <td>0.000000e+00</td>\n",
       "    </tr>\n",
       "    <tr>\n",
       "      <th>13</th>\n",
       "      <td>pf</td>\n",
       "      <td>0.000000e+00</td>\n",
       "    </tr>\n",
       "    <tr>\n",
       "      <th>3</th>\n",
       "      <td>fgm3</td>\n",
       "      <td>4.676559e-311</td>\n",
       "    </tr>\n",
       "    <tr>\n",
       "      <th>11</th>\n",
       "      <td>stl</td>\n",
       "      <td>2.615182e-275</td>\n",
       "    </tr>\n",
       "    <tr>\n",
       "      <th>10</th>\n",
       "      <td>to</td>\n",
       "      <td>2.302716e-231</td>\n",
       "    </tr>\n",
       "    <tr>\n",
       "      <th>2</th>\n",
       "      <td>fga</td>\n",
       "      <td>5.413803e-83</td>\n",
       "    </tr>\n",
       "    <tr>\n",
       "      <th>4</th>\n",
       "      <td>fga3</td>\n",
       "      <td>9.296490e-69</td>\n",
       "    </tr>\n",
       "    <tr>\n",
       "      <th>481</th>\n",
       "      <td>oppteam_1212</td>\n",
       "      <td>2.758878e-19</td>\n",
       "    </tr>\n",
       "    <tr>\n",
       "      <th>123</th>\n",
       "      <td>team_1212</td>\n",
       "      <td>2.758878e-19</td>\n",
       "    </tr>\n",
       "    <tr>\n",
       "      <th>122</th>\n",
       "      <td>team_1211</td>\n",
       "      <td>3.967735e-17</td>\n",
       "    </tr>\n",
       "    <tr>\n",
       "      <th>480</th>\n",
       "      <td>oppteam_1211</td>\n",
       "      <td>3.967735e-17</td>\n",
       "    </tr>\n",
       "    <tr>\n",
       "      <th>719</th>\n",
       "      <td>oppteam_1455</td>\n",
       "      <td>1.049339e-16</td>\n",
       "    </tr>\n",
       "    <tr>\n",
       "      <th>361</th>\n",
       "      <td>team_1455</td>\n",
       "      <td>1.049339e-16</td>\n",
       "    </tr>\n",
       "    <tr>\n",
       "      <th>156</th>\n",
       "      <td>team_1246</td>\n",
       "      <td>1.770325e-16</td>\n",
       "    </tr>\n",
       "    <tr>\n",
       "      <th>514</th>\n",
       "      <td>oppteam_1246</td>\n",
       "      <td>1.770325e-16</td>\n",
       "    </tr>\n",
       "    <tr>\n",
       "      <th>39</th>\n",
       "      <td>team_1127</td>\n",
       "      <td>8.467169e-16</td>\n",
       "    </tr>\n",
       "    <tr>\n",
       "      <th>397</th>\n",
       "      <td>oppteam_1127</td>\n",
       "      <td>8.467169e-16</td>\n",
       "    </tr>\n",
       "    <tr>\n",
       "      <th>512</th>\n",
       "      <td>oppteam_1244</td>\n",
       "      <td>5.938686e-15</td>\n",
       "    </tr>\n",
       "    <tr>\n",
       "      <th>154</th>\n",
       "      <td>team_1244</td>\n",
       "      <td>5.938686e-15</td>\n",
       "    </tr>\n",
       "    <tr>\n",
       "      <th>450</th>\n",
       "      <td>oppteam_1181</td>\n",
       "      <td>1.567370e-14</td>\n",
       "    </tr>\n",
       "    <tr>\n",
       "      <th>92</th>\n",
       "      <td>team_1181</td>\n",
       "      <td>1.567370e-14</td>\n",
       "    </tr>\n",
       "    <tr>\n",
       "      <th>167</th>\n",
       "      <td>team_1257</td>\n",
       "      <td>4.911805e-14</td>\n",
       "    </tr>\n",
       "    <tr>\n",
       "      <th>525</th>\n",
       "      <td>oppteam_1257</td>\n",
       "      <td>4.911805e-14</td>\n",
       "    </tr>\n",
       "    <tr>\n",
       "      <th>...</th>\n",
       "      <td>...</td>\n",
       "      <td>...</td>\n",
       "    </tr>\n",
       "    <tr>\n",
       "      <th>454</th>\n",
       "      <td>oppteam_1185</td>\n",
       "      <td>8.572633e-01</td>\n",
       "    </tr>\n",
       "    <tr>\n",
       "      <th>96</th>\n",
       "      <td>team_1185</td>\n",
       "      <td>8.572633e-01</td>\n",
       "    </tr>\n",
       "    <tr>\n",
       "      <th>197</th>\n",
       "      <td>team_1287</td>\n",
       "      <td>8.572633e-01</td>\n",
       "    </tr>\n",
       "    <tr>\n",
       "      <th>225</th>\n",
       "      <td>team_1316</td>\n",
       "      <td>8.572633e-01</td>\n",
       "    </tr>\n",
       "    <tr>\n",
       "      <th>583</th>\n",
       "      <td>oppteam_1316</td>\n",
       "      <td>8.572633e-01</td>\n",
       "    </tr>\n",
       "    <tr>\n",
       "      <th>555</th>\n",
       "      <td>oppteam_1287</td>\n",
       "      <td>8.572633e-01</td>\n",
       "    </tr>\n",
       "    <tr>\n",
       "      <th>69</th>\n",
       "      <td>team_1158</td>\n",
       "      <td>8.594812e-01</td>\n",
       "    </tr>\n",
       "    <tr>\n",
       "      <th>427</th>\n",
       "      <td>oppteam_1158</td>\n",
       "      <td>8.594812e-01</td>\n",
       "    </tr>\n",
       "    <tr>\n",
       "      <th>124</th>\n",
       "      <td>team_1213</td>\n",
       "      <td>8.926734e-01</td>\n",
       "    </tr>\n",
       "    <tr>\n",
       "      <th>482</th>\n",
       "      <td>oppteam_1213</td>\n",
       "      <td>8.926734e-01</td>\n",
       "    </tr>\n",
       "    <tr>\n",
       "      <th>316</th>\n",
       "      <td>team_1408</td>\n",
       "      <td>9.280542e-01</td>\n",
       "    </tr>\n",
       "    <tr>\n",
       "      <th>674</th>\n",
       "      <td>oppteam_1408</td>\n",
       "      <td>9.280542e-01</td>\n",
       "    </tr>\n",
       "    <tr>\n",
       "      <th>336</th>\n",
       "      <td>team_1428</td>\n",
       "      <td>9.286289e-01</td>\n",
       "    </tr>\n",
       "    <tr>\n",
       "      <th>89</th>\n",
       "      <td>team_1178</td>\n",
       "      <td>9.286289e-01</td>\n",
       "    </tr>\n",
       "    <tr>\n",
       "      <th>447</th>\n",
       "      <td>oppteam_1178</td>\n",
       "      <td>9.286289e-01</td>\n",
       "    </tr>\n",
       "    <tr>\n",
       "      <th>694</th>\n",
       "      <td>oppteam_1428</td>\n",
       "      <td>9.286289e-01</td>\n",
       "    </tr>\n",
       "    <tr>\n",
       "      <th>373</th>\n",
       "      <td>loc_N</td>\n",
       "      <td>1.000000e+00</td>\n",
       "    </tr>\n",
       "    <tr>\n",
       "      <th>490</th>\n",
       "      <td>oppteam_1222</td>\n",
       "      <td>1.000000e+00</td>\n",
       "    </tr>\n",
       "    <tr>\n",
       "      <th>132</th>\n",
       "      <td>team_1222</td>\n",
       "      <td>1.000000e+00</td>\n",
       "    </tr>\n",
       "    <tr>\n",
       "      <th>15</th>\n",
       "      <td>season_data</td>\n",
       "      <td>1.000000e+00</td>\n",
       "    </tr>\n",
       "    <tr>\n",
       "      <th>14</th>\n",
       "      <td>Daynum</td>\n",
       "      <td>1.000000e+00</td>\n",
       "    </tr>\n",
       "    <tr>\n",
       "      <th>0</th>\n",
       "      <td>Numot</td>\n",
       "      <td>1.000000e+00</td>\n",
       "    </tr>\n",
       "    <tr>\n",
       "      <th>40</th>\n",
       "      <td>team_1128</td>\n",
       "      <td>NaN</td>\n",
       "    </tr>\n",
       "    <tr>\n",
       "      <th>58</th>\n",
       "      <td>team_1147</td>\n",
       "      <td>NaN</td>\n",
       "    </tr>\n",
       "    <tr>\n",
       "      <th>199</th>\n",
       "      <td>team_1289</td>\n",
       "      <td>NaN</td>\n",
       "    </tr>\n",
       "    <tr>\n",
       "      <th>352</th>\n",
       "      <td>team_1445</td>\n",
       "      <td>NaN</td>\n",
       "    </tr>\n",
       "    <tr>\n",
       "      <th>398</th>\n",
       "      <td>oppteam_1128</td>\n",
       "      <td>NaN</td>\n",
       "    </tr>\n",
       "    <tr>\n",
       "      <th>416</th>\n",
       "      <td>oppteam_1147</td>\n",
       "      <td>NaN</td>\n",
       "    </tr>\n",
       "    <tr>\n",
       "      <th>557</th>\n",
       "      <td>oppteam_1289</td>\n",
       "      <td>NaN</td>\n",
       "    </tr>\n",
       "    <tr>\n",
       "      <th>710</th>\n",
       "      <td>oppteam_1445</td>\n",
       "      <td>NaN</td>\n",
       "    </tr>\n",
       "  </tbody>\n",
       "</table>\n",
       "<p>729 rows × 2 columns</p>\n",
       "</div>"
      ],
      "text/plain": [
       "          Columns           pval\n",
       "371         loc_A   0.000000e+00\n",
       "1             fgm   0.000000e+00\n",
       "5             ftm   0.000000e+00\n",
       "6             fta   0.000000e+00\n",
       "372         loc_H   0.000000e+00\n",
       "8              dr   0.000000e+00\n",
       "9             ast   0.000000e+00\n",
       "12            blk   0.000000e+00\n",
       "13             pf   0.000000e+00\n",
       "3            fgm3  4.676559e-311\n",
       "11            stl  2.615182e-275\n",
       "10             to  2.302716e-231\n",
       "2             fga   5.413803e-83\n",
       "4            fga3   9.296490e-69\n",
       "481  oppteam_1212   2.758878e-19\n",
       "123     team_1212   2.758878e-19\n",
       "122     team_1211   3.967735e-17\n",
       "480  oppteam_1211   3.967735e-17\n",
       "719  oppteam_1455   1.049339e-16\n",
       "361     team_1455   1.049339e-16\n",
       "156     team_1246   1.770325e-16\n",
       "514  oppteam_1246   1.770325e-16\n",
       "39      team_1127   8.467169e-16\n",
       "397  oppteam_1127   8.467169e-16\n",
       "512  oppteam_1244   5.938686e-15\n",
       "154     team_1244   5.938686e-15\n",
       "450  oppteam_1181   1.567370e-14\n",
       "92      team_1181   1.567370e-14\n",
       "167     team_1257   4.911805e-14\n",
       "525  oppteam_1257   4.911805e-14\n",
       "..            ...            ...\n",
       "454  oppteam_1185   8.572633e-01\n",
       "96      team_1185   8.572633e-01\n",
       "197     team_1287   8.572633e-01\n",
       "225     team_1316   8.572633e-01\n",
       "583  oppteam_1316   8.572633e-01\n",
       "555  oppteam_1287   8.572633e-01\n",
       "69      team_1158   8.594812e-01\n",
       "427  oppteam_1158   8.594812e-01\n",
       "124     team_1213   8.926734e-01\n",
       "482  oppteam_1213   8.926734e-01\n",
       "316     team_1408   9.280542e-01\n",
       "674  oppteam_1408   9.280542e-01\n",
       "336     team_1428   9.286289e-01\n",
       "89      team_1178   9.286289e-01\n",
       "447  oppteam_1178   9.286289e-01\n",
       "694  oppteam_1428   9.286289e-01\n",
       "373         loc_N   1.000000e+00\n",
       "490  oppteam_1222   1.000000e+00\n",
       "132     team_1222   1.000000e+00\n",
       "15    season_data   1.000000e+00\n",
       "14         Daynum   1.000000e+00\n",
       "0           Numot   1.000000e+00\n",
       "40      team_1128            NaN\n",
       "58      team_1147            NaN\n",
       "199     team_1289            NaN\n",
       "352     team_1445            NaN\n",
       "398  oppteam_1128            NaN\n",
       "416  oppteam_1147            NaN\n",
       "557  oppteam_1289            NaN\n",
       "710  oppteam_1445            NaN\n",
       "\n",
       "[729 rows x 2 columns]"
      ]
     },
     "execution_count": 130,
     "metadata": {},
     "output_type": "execute_result"
    }
   ],
   "source": [
    "pd.DataFrame({'Columns': x_train.columns,\n",
    "              'pval': train_univariate[1]}).sort_values(by='pval')"
   ]
  },
  {
   "cell_type": "code",
   "execution_count": 142,
   "metadata": {
    "collapsed": false
   },
   "outputs": [
    {
     "name": "stderr",
     "output_type": "stream",
     "text": [
      "[Parallel(n_jobs=-1)]: Done   3 out of   3 | elapsed:  1.2min finished\n"
     ]
    },
    {
     "data": {
      "text/plain": [
       "LogisticRegressionCV(Cs=array([  1.00000e-08,   1.00000e-07,   1.00000e-06,   1.00000e-05,\n",
       "         1.00000e-04,   1.00000e-03,   1.00000e-02,   1.00000e-01,\n",
       "         1.00000e+00,   1.00000e+01]),\n",
       "           class_weight=None, cv=3, dual=False, fit_intercept=True,\n",
       "           intercept_scaling=1.0, max_iter=100, multi_class='ovr',\n",
       "           n_jobs=-1, penalty='l2', random_state=None, refit=True,\n",
       "           scoring=None, solver='lbfgs', tol=0.0001, verbose=True)"
      ]
     },
     "execution_count": 142,
     "metadata": {},
     "output_type": "execute_result"
    }
   ],
   "source": [
    "clf = LogisticRegressionCV(Cs=np.logspace(-8, 1, 10), cv=3, verbose=True, n_jobs=-1)\n",
    "clf.fit(x_train, y_train)"
   ]
  },
  {
   "cell_type": "code",
   "execution_count": 146,
   "metadata": {
    "collapsed": true
   },
   "outputs": [],
   "source": [
    "with open('../model/logcv_model.p', 'wb') as f:\n",
    "    pickle.dump(clf, f)"
   ]
  },
  {
   "cell_type": "code",
   "execution_count": 143,
   "metadata": {
    "collapsed": false
   },
   "outputs": [
    {
     "data": {
      "text/plain": [
       "0.89859442408498402"
      ]
     },
     "execution_count": 143,
     "metadata": {},
     "output_type": "execute_result"
    }
   ],
   "source": [
    "clf.score(x_train, y_train)"
   ]
  },
  {
   "cell_type": "code",
   "execution_count": 144,
   "metadata": {
    "collapsed": false
   },
   "outputs": [
    {
     "data": {
      "text/plain": [
       "0.88245033112582782"
      ]
     },
     "execution_count": 144,
     "metadata": {},
     "output_type": "execute_result"
    }
   ],
   "source": [
    "clf.score(x_test, y_test)"
   ]
  }
 ],
 "metadata": {
  "anaconda-cloud": {},
  "kernelspec": {
   "display_name": "Python [default]",
   "language": "python",
   "name": "python3"
  },
  "language_info": {
   "codemirror_mode": {
    "name": "ipython",
    "version": 3
   },
   "file_extension": ".py",
   "mimetype": "text/x-python",
   "name": "python",
   "nbconvert_exporter": "python",
   "pygments_lexer": "ipython3",
   "version": "3.5.1"
  }
 },
 "nbformat": 4,
 "nbformat_minor": 1
}
